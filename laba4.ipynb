{
 "cells": [
  {
   "cell_type": "markdown",
   "metadata": {},
   "source": [
    "id: c3d4df18-3add-4ce4-b2de-d3c250bdd086 ************* key: 6efb557d-eea0-48ce-a89e-270111731dba\n"
   ]
  },
  {
   "cell_type": "code",
   "execution_count": 2,
   "metadata": {},
   "outputs": [],
   "source": [
    "import zipfile\n",
    "import os\n",
    "import sys\n",
    "import subprocess \n",
    "from sentinelhub import AwsProductRequest"
   ]
  },
  {
   "cell_type": "code",
   "execution_count": null,
   "metadata": {},
   "outputs": [],
   "source": [
    "product_id = 'S2A_MSIL2A_20190821T085601_N0213_R007_T36UUB_20190821T115206'\n",
    "product_id1 = 'S2A_MSIL2A_20190821T085601_N0213_R007_T36UUA_20190821T115206'\n",
    "data_folder = r'C:\\Users\\ACER'\n",
    "\n",
    "sentid = input('choise your sentiel id to dowload data : ')\n",
    "sentkey = input('choise your sentiel key to dowload data : ')\n",
    "subprocess.call('sentinelhub.config --instance_id '  + sentid + ' --aws_secret_access_key ' + sentkey, shell = True)\n",
    "\n",
    "try:\n",
    "    product_request = AwsProductRequest(product_id=product_id, data_folder=data_folder, safe_format=True)\n",
    "    product_request.save_data()\n",
    "    product_request1 = AwsProductRequest(product_id=product_id1, data_folder=data_folder, safe_format=True)\n",
    "    product_request.save_data()\n",
    "except:\n",
    "    subprocess.call('sentinelhub.aws --product '  + product_id, shell = True)\n",
    "    subprocess.call('sentinelhub.aws --product '  + product_id1, shell = True)\n",
    "\n",
    "product_idpath = data_folder  + '\\\\' + product_id\n",
    "product_idpath1 = data_folder + '\\\\' + product_id1"
   ]
  },
  {
   "cell_type": "code",
   "execution_count": 2,
   "metadata": {},
   "outputs": [],
   "source": [
    "zip2 = zipfile.ZipFile(product_idpath + '.zip')\n",
    "zip2.extractall(product_idpath)\n",
    "zip2.close()\n",
    "\n",
    "zip3 = zipfile.ZipFile(product_idpath1 + '.zip')\n",
    "zip3.extractall(product_idpath1)\n",
    "zip3.close()"
   ]
  },
  {
   "cell_type": "code",
   "execution_count": 79,
   "metadata": {
    "scrolled": true
   },
   "outputs": [
    {
     "name": "stdout",
     "output_type": "stream",
     "text": [
      "gdal_translate .ipynb_checkpoints .ipynb_checkpoints\n",
      "gdal_translate T36UUA_20190821T085601_AOT_10m.jp2 T36UUA_20190821T085601_AOT_10m.tif\n",
      "gdal_translate T36UUA_20190821T085601_B02_10m.jp2 T36UUA_20190821T085601_B02_10m.tif\n",
      "gdal_translate T36UUA_20190821T085601_B03_10m.jp2 T36UUA_20190821T085601_B03_10m.tif\n",
      "gdal_translate T36UUA_20190821T085601_B04_10m.jp2 T36UUA_20190821T085601_B04_10m.tif\n",
      "gdal_translate T36UUA_20190821T085601_B08_10m.jp2 T36UUA_20190821T085601_B08_10m.tif\n",
      "gdal_translate T36UUA_20190821T085601_TCI_10m.jp2 T36UUA_20190821T085601_TCI_10m.tif\n",
      "gdal_translate T36UUA_20190821T085601_WVP_10m.jp2 T36UUA_20190821T085601_WVP_10m.tif\n",
      "['T36UUA_20190821T085601_B02_10m.tif', 'T36UUA_20190821T085601_B03_10m.tif', 'T36UUA_20190821T085601_B04_10m.tif', 'T36UUA_20190821T085601_B08_10m.tif']\n",
      "gdal_translate .ipynb_checkpoints .ipynb_checkpoints\n",
      "gdal_translate T36UUA_20190821T085601_AOT_20m.jp2 T36UUA_20190821T085601_AOT_20m.tif\n",
      "gdal_translate T36UUA_20190821T085601_B02_20m.jp2 T36UUA_20190821T085601_B02_20m.tif\n",
      "gdal_translate T36UUA_20190821T085601_B03_20m.jp2 T36UUA_20190821T085601_B03_20m.tif\n",
      "gdal_translate T36UUA_20190821T085601_B04_20m.jp2 T36UUA_20190821T085601_B04_20m.tif\n",
      "gdal_translate T36UUA_20190821T085601_B05_20m.jp2 T36UUA_20190821T085601_B05_20m.tif\n",
      "gdal_translate T36UUA_20190821T085601_B06_20m.jp2 T36UUA_20190821T085601_B06_20m.tif\n",
      "gdal_translate T36UUA_20190821T085601_B07_20m.jp2 T36UUA_20190821T085601_B07_20m.tif\n",
      "gdal_translate T36UUA_20190821T085601_B11_20m.jp2 T36UUA_20190821T085601_B11_20m.tif\n",
      "gdal_translate T36UUA_20190821T085601_B12_20m.jp2 T36UUA_20190821T085601_B12_20m.tif\n",
      "gdal_translate T36UUA_20190821T085601_B8A_20m.jp2 T36UUA_20190821T085601_B8A_20m.tif\n",
      "gdal_translate T36UUA_20190821T085601_SCL_20m.jp2 T36UUA_20190821T085601_SCL_20m.tif\n",
      "gdal_translate T36UUA_20190821T085601_TCI_20m.jp2 T36UUA_20190821T085601_TCI_20m.tif\n",
      "gdal_translate T36UUA_20190821T085601_WVP_20m.jp2 T36UUA_20190821T085601_WVP_20m.tif\n",
      "['T36UUA_20190821T085601_B02_20m.tif', 'T36UUA_20190821T085601_B03_20m.tif', 'T36UUA_20190821T085601_B04_20m.tif']\n",
      "gdal_translate .ipynb_checkpoints .ipynb_checkpoints\n",
      "gdal_translate T36UUA_20190821T085601_AOT_60m.jp2 T36UUA_20190821T085601_AOT_60m.tif\n",
      "gdal_translate T36UUA_20190821T085601_B01_60m.jp2 T36UUA_20190821T085601_B01_60m.tif\n",
      "gdal_translate T36UUA_20190821T085601_B02_60m.jp2 T36UUA_20190821T085601_B02_60m.tif\n",
      "gdal_translate T36UUA_20190821T085601_B03_60m.jp2 T36UUA_20190821T085601_B03_60m.tif\n",
      "gdal_translate T36UUA_20190821T085601_B04_60m.jp2 T36UUA_20190821T085601_B04_60m.tif\n",
      "gdal_translate T36UUA_20190821T085601_B05_60m.jp2 T36UUA_20190821T085601_B05_60m.tif\n",
      "gdal_translate T36UUA_20190821T085601_B06_60m.jp2 T36UUA_20190821T085601_B06_60m.tif\n",
      "gdal_translate T36UUA_20190821T085601_B07_60m.jp2 T36UUA_20190821T085601_B07_60m.tif\n",
      "gdal_translate T36UUA_20190821T085601_B09_60m.jp2 T36UUA_20190821T085601_B09_60m.tif\n",
      "gdal_translate T36UUA_20190821T085601_B11_60m.jp2 T36UUA_20190821T085601_B11_60m.tif\n",
      "gdal_translate T36UUA_20190821T085601_B12_60m.jp2 T36UUA_20190821T085601_B12_60m.tif\n",
      "gdal_translate T36UUA_20190821T085601_B8A_60m.jp2 T36UUA_20190821T085601_B8A_60m.tif\n",
      "gdal_translate T36UUA_20190821T085601_SCL_60m.jp2 T36UUA_20190821T085601_SCL_60m.tif\n",
      "gdal_translate T36UUA_20190821T085601_TCI_60m.jp2 T36UUA_20190821T085601_TCI_60m.tif\n",
      "gdal_translate T36UUA_20190821T085601_WVP_60m.jp2 T36UUA_20190821T085601_WVP_60m.tif\n",
      "['T36UUA_20190821T085601_B02_60m.tif', 'T36UUA_20190821T085601_B03_60m.tif', 'T36UUA_20190821T085601_B04_60m.tif']\n"
     ]
    }
   ],
   "source": [
    "gm = os.path.join('C:\\\\','QGIS 3.12','apps','Python37', 'Scripts', 'gdal_merge.py')\n",
    "sys.path.append('C:\\\\QGIS 3.12\\\\bin')\n",
    "listdir = os.listdir(path=r\"C:\\Users\\ACER\\S2A_MSIL2A_20190821T085601_N0213_R007_T36UUA_20190821T115206\\S2A_MSIL2A_20190821T085601_N0213_R007_T36UUA_20190821T115206.SAFE\\GRANULE\\L2A_T36UUA_A021740_20190821T085815\\IMG_DATA\")\n",
    "for i in listdir:\n",
    "    firstlist = os.listdir(path=\"C:\\\\Users\\\\ACER\\\\S2A_MSIL2A_20190821T085601_N0213_R007_T36UUA_20190821T115206\\\\S2A_MSIL2A_20190821T085601_N0213_R007_T36UUA_20190821T115206.SAFE\\\\GRANULE\\\\L2A_T36UUA_A021740_20190821T085815\\\\IMG_DATA\\\\\" + i)\n",
    "    infrapath = 'C:/Users/ACER/S2A_MSIL2A_20190821T085601_N0213_R007_T36UUA_20190821T115206/S2A_MSIL2A_20190821T085601_N0213_R007_T36UUA_20190821T115206.SAFE/GRANULE/L2A_T36UUA_A021740_20190821T085815/IMG_DATA/' + i\n",
    "    os.chdir(infrapath)\n",
    "    for j in firstlist:\n",
    "        newname = j.replace('jp2', 'tif')\n",
    "        print('gdal_translate ' + j  + ' '  + newname)\n",
    "        subprocess.call('gdal_translate '  + j  + ' '  + newname, shell = True)\n",
    "    firstlisttif = os.listdir(path=\"C:\\\\Users\\\\ACER\\\\S2A_MSIL2A_20190821T085601_N0213_R007_T36UUA_20190821T115206\\\\S2A_MSIL2A_20190821T085601_N0213_R007_T36UUA_20190821T115206.SAFE\\\\GRANULE\\\\L2A_T36UUA_A021740_20190821T085815\\\\IMG_DATA\\\\\" + i)\n",
    "    needtif = []\n",
    "    for k in firstlisttif:\n",
    "        if k.find('.tif') > -1 and (k.find('B02') > -1 or k.find('B03') > -1 or k.find('B04') > -1 or k.find('B08') or k.find('B8A') > -1):\n",
    "            needtif.append(k)\n",
    "    print(needtif)"
   ]
  },
  {
   "cell_type": "code",
   "execution_count": 101,
   "metadata": {},
   "outputs": [],
   "source": [
    "f_needtif = ['T36UUA_20190821T085601_B02_10m.tif', 'T36UUA_20190821T085601_B03_10m.tif', 'T36UUA_20190821T085601_B04_10m.tif', 'T36UUA_20190821T085601_B08_10m.tif']\n",
    "s_needtif = ['T36UUA_20190821T085601_B02_20m.tif', 'T36UUA_20190821T085601_B03_20m.tif', 'T36UUA_20190821T085601_B04_20m.tif', 'T36UUA_20190821T085601_B8A_20m.tif']\n",
    "t_needtif = ['T36UUA_20190821T085601_B02_60m.tif', 'T36UUA_20190821T085601_B03_60m.tif', 'T36UUA_20190821T085601_B04_60m.tif', 'T36UUA_20190821T085601_B8A_60m.tif']"
   ]
  },
  {
   "cell_type": "markdown",
   "metadata": {},
   "source": [
    "Concatenation of visible, near and middle channels\n",
    "infrared spectral ranges (channels 2, 3, 4 and 8) of the image in\n",
    "single GEOTIFF file."
   ]
  },
  {
   "cell_type": "code",
   "execution_count": 102,
   "metadata": {},
   "outputs": [],
   "source": [
    "merge_command1 = [\"python\", gm, \"-o\", \"1merged.tif\" , f_needtif[0], f_needtif[1], f_needtif[2], f_needtif[3]]\n",
    "merge_command2 = [\"python\", gm, \"-o\", \"2merged.tif\" , s_needtif[0], s_needtif[1], s_needtif[2], s_needtif[3]]\n",
    "merge_command3 = [\"python\", gm, \"-o\", \"3merged.tif\" , t_needtif[0], t_needtif[1], t_needtif[2], t_needtif[3]]\n",
    "subprocess.call(merge_command1, shell=True)\n",
    "subprocess.call(merge_command2, shell=True)\n",
    "subprocess.call(merge_command3, shell=True)\n",
    "for iterfilename in range(1, 4):\n",
    "    os.system('move ' + str(iterfilename) + 'merged.tif ' + 'C:\\\\Users\\\\ACER')\n",
    "  "
   ]
  },
  {
   "cell_type": "markdown",
   "metadata": {},
   "source": [
    "Redesigning a satellite image into a projection 4326."
   ]
  },
  {
   "cell_type": "code",
   "execution_count": 103,
   "metadata": {},
   "outputs": [],
   "source": [
    "subprocess.call('gdalwarp -t_srs EPSG:4326 ' +  'C:\\\\Users\\\\ACER\\\\1merged.tif ' + '1merged4326.tif', shell = True)\n",
    "subprocess.call('gdalwarp -t_srs EPSG:4326 ' +  'C:\\\\Users\\\\ACER\\\\2merged.tif ' + '2merged4326.tif', shell = True)\n",
    "subprocess.call('gdalwarp -t_srs EPSG:4326 ' +  'C:\\\\Users\\\\ACER\\\\3merged.tif ' + '3merged4326.tif', shell = True)\n",
    "for iterfilename in range (1,4):\n",
    "    os.system('move ' + str(iterfilename) + 'merged4326.tif ' + 'C:\\\\Users\\\\ACER')"
   ]
  },
  {
   "cell_type": "markdown",
   "metadata": {},
   "source": [
    "\n",
    "Concatenation of all received rasters in one 4-channel TIFF file.\n"
   ]
  },
  {
   "cell_type": "code",
   "execution_count": 116,
   "metadata": {},
   "outputs": [
    {
     "data": {
      "text/plain": [
       "0"
      ]
     },
     "execution_count": 116,
     "metadata": {},
     "output_type": "execute_result"
    }
   ],
   "source": [
    "listmergetif1 =  os.listdir(path='C:\\\\Users\\\\ACER')\n",
    "canal4input = ''\n",
    "for i in listmergetif1:\n",
    "    if i.find('merged4326.tif') > -1:\n",
    "        canal4input += ' ' + i\n",
    "subprocess.call('gdalwarp '  + canal4input  + ' ' + '4chanel.tif', shell = True)\n"
   ]
  },
  {
   "cell_type": "markdown",
   "metadata": {},
   "source": [
    "\n",
    "Similar actions for the second folder(another part of map)"
   ]
  },
  {
   "cell_type": "code",
   "execution_count": 69,
   "metadata": {
    "scrolled": true
   },
   "outputs": [
    {
     "name": "stdout",
     "output_type": "stream",
     "text": [
      "gdal_translate T36UUB_20190821T085601_AOT_10m.jp2 T36UUB_20190821T085601_AOT_10m.tif\n",
      "gdal_translate T36UUB_20190821T085601_B02_10m.jp2 T36UUB_20190821T085601_B02_10m.tif\n",
      "gdal_translate T36UUB_20190821T085601_B03_10m.jp2 T36UUB_20190821T085601_B03_10m.tif\n",
      "gdal_translate T36UUB_20190821T085601_B04_10m.jp2 T36UUB_20190821T085601_B04_10m.tif\n",
      "gdal_translate T36UUB_20190821T085601_B08_10m.jp2 T36UUB_20190821T085601_B08_10m.tif\n",
      "gdal_translate T36UUB_20190821T085601_TCI_10m.jp2 T36UUB_20190821T085601_TCI_10m.tif\n",
      "gdal_translate T36UUB_20190821T085601_WVP_10m.jp2 T36UUB_20190821T085601_WVP_10m.tif\n",
      "['T36UUB_20190821T085601_B02_10m.tif', 'T36UUB_20190821T085601_B03_10m.tif', 'T36UUB_20190821T085601_B04_10m.tif', 'T36UUB_20190821T085601_B08_10m.tif']\n",
      "gdal_translate T36UUB_20190821T085601_AOT_20m.jp2 T36UUB_20190821T085601_AOT_20m.tif\n",
      "gdal_translate T36UUB_20190821T085601_B02_20m.jp2 T36UUB_20190821T085601_B02_20m.tif\n",
      "gdal_translate T36UUB_20190821T085601_B03_20m.jp2 T36UUB_20190821T085601_B03_20m.tif\n",
      "gdal_translate T36UUB_20190821T085601_B04_20m.jp2 T36UUB_20190821T085601_B04_20m.tif\n",
      "gdal_translate T36UUB_20190821T085601_B05_20m.jp2 T36UUB_20190821T085601_B05_20m.tif\n",
      "gdal_translate T36UUB_20190821T085601_B06_20m.jp2 T36UUB_20190821T085601_B06_20m.tif\n",
      "gdal_translate T36UUB_20190821T085601_B07_20m.jp2 T36UUB_20190821T085601_B07_20m.tif\n",
      "gdal_translate T36UUB_20190821T085601_B11_20m.jp2 T36UUB_20190821T085601_B11_20m.tif\n",
      "gdal_translate T36UUB_20190821T085601_B12_20m.jp2 T36UUB_20190821T085601_B12_20m.tif\n",
      "gdal_translate T36UUB_20190821T085601_B8A_20m.jp2 T36UUB_20190821T085601_B8A_20m.tif\n",
      "gdal_translate T36UUB_20190821T085601_SCL_20m.jp2 T36UUB_20190821T085601_SCL_20m.tif\n",
      "gdal_translate T36UUB_20190821T085601_TCI_20m.jp2 T36UUB_20190821T085601_TCI_20m.tif\n",
      "gdal_translate T36UUB_20190821T085601_WVP_20m.jp2 T36UUB_20190821T085601_WVP_20m.tif\n",
      "['T36UUB_20190821T085601_B02_20m.tif', 'T36UUB_20190821T085601_B03_20m.tif', 'T36UUB_20190821T085601_B04_20m.tif']\n",
      "gdal_translate T36UUB_20190821T085601_AOT_60m.jp2 T36UUB_20190821T085601_AOT_60m.tif\n",
      "gdal_translate T36UUB_20190821T085601_B01_60m.jp2 T36UUB_20190821T085601_B01_60m.tif\n",
      "gdal_translate T36UUB_20190821T085601_B02_60m.jp2 T36UUB_20190821T085601_B02_60m.tif\n",
      "gdal_translate T36UUB_20190821T085601_B03_60m.jp2 T36UUB_20190821T085601_B03_60m.tif\n",
      "gdal_translate T36UUB_20190821T085601_B04_60m.jp2 T36UUB_20190821T085601_B04_60m.tif\n",
      "gdal_translate T36UUB_20190821T085601_B05_60m.jp2 T36UUB_20190821T085601_B05_60m.tif\n",
      "gdal_translate T36UUB_20190821T085601_B06_60m.jp2 T36UUB_20190821T085601_B06_60m.tif\n",
      "gdal_translate T36UUB_20190821T085601_B07_60m.jp2 T36UUB_20190821T085601_B07_60m.tif\n",
      "gdal_translate T36UUB_20190821T085601_B09_60m.jp2 T36UUB_20190821T085601_B09_60m.tif\n",
      "gdal_translate T36UUB_20190821T085601_B11_60m.jp2 T36UUB_20190821T085601_B11_60m.tif\n",
      "gdal_translate T36UUB_20190821T085601_B12_60m.jp2 T36UUB_20190821T085601_B12_60m.tif\n",
      "gdal_translate T36UUB_20190821T085601_B8A_60m.jp2 T36UUB_20190821T085601_B8A_60m.tif\n",
      "gdal_translate T36UUB_20190821T085601_SCL_60m.jp2 T36UUB_20190821T085601_SCL_60m.tif\n",
      "gdal_translate T36UUB_20190821T085601_TCI_60m.jp2 T36UUB_20190821T085601_TCI_60m.tif\n",
      "gdal_translate T36UUB_20190821T085601_WVP_60m.jp2 T36UUB_20190821T085601_WVP_60m.tif\n",
      "['T36UUB_20190821T085601_B02_60m.tif', 'T36UUB_20190821T085601_B03_60m.tif', 'T36UUB_20190821T085601_B04_60m.tif']\n"
     ]
    }
   ],
   "source": [
    "listdir2 = os.listdir(path=r\"C:\\Users\\ACER\\S2A_MSIL2A_20190821T085601_N0213_R007_T36UUB_20190821T115206\\S2A_MSIL2A_20190821T085601_N0213_R007_T36UUB_20190821T115206.SAFE\\GRANULE\\L2A_T36UUB_A021740_20190821T085815\\IMG_DATA\")\n",
    "for i in listdir2:\n",
    "    secondlist = os.listdir(path=\"C:\\\\Users\\\\ACER\\\\S2A_MSIL2A_20190821T085601_N0213_R007_T36UUB_20190821T115206\\\\S2A_MSIL2A_20190821T085601_N0213_R007_T36UUB_20190821T115206.SAFE\\\\GRANULE\\\\L2A_T36UUB_A021740_20190821T085815\\\\IMG_DATA\\\\\"  + i)\n",
    "    infrapath2 = 'C:/Users/ACER/S2A_MSIL2A_20190821T085601_N0213_R007_T36UUB_20190821T115206/S2A_MSIL2A_20190821T085601_N0213_R007_T36UUB_20190821T115206.SAFE/GRANULE/L2A_T36UUB_A021740_20190821T085815/IMG_DATA/'  + i\n",
    "    os.chdir(infrapath2)\n",
    "    for v in secondlist:\n",
    "        newname = v.replace('jp2', 'tif')\n",
    "        print('gdal_translate ' + v  + ' '  + newname)\n",
    "        subprocess.call('gdal_translate ' + v  + ' '  + newname, shell = True)\n",
    "    secondlisttif = os.listdir(path=\"C:\\\\Users\\\\ACER\\\\S2A_MSIL2A_20190821T085601_N0213_R007_T36UUB_20190821T115206\\\\S2A_MSIL2A_20190821T085601_N0213_R007_T36UUB_20190821T115206.SAFE\\\\GRANULE\\\\L2A_T36UUB_A021740_20190821T085815\\\\IMG_DATA\\\\\" + i)\n",
    "    needtif2 = []\n",
    "    for q in secondlisttif:\n",
    "        if q.find('.tif') > -1 and (q.find('B02') > -1 or q.find('B03') > -1 or q.find('B04') > -1 or q.find('B08') > -1):\n",
    "            needtif2.append(q)\n",
    "    print(needtif2)"
   ]
  },
  {
   "cell_type": "code",
   "execution_count": 104,
   "metadata": {},
   "outputs": [],
   "source": [
    "f_needtif_t = ['T36UUB_20190821T085601_B02_10m.tif', 'T36UUB_20190821T085601_B03_10m.tif', 'T36UUB_20190821T085601_B04_10m.tif', 'T36UUB_20190821T085601_B08_10m.tif']\n",
    "s_needtif_t = ['T36UUB_20190821T085601_B02_20m.tif', 'T36UUB_20190821T085601_B03_20m.tif', 'T36UUB_20190821T085601_B04_20m.tif', 'T36UUB_20190821T085601_B8A_20m.tif']\n",
    "t_needtif_t = ['T36UUB_20190821T085601_B02_60m.tif', 'T36UUB_20190821T085601_B03_60m.tif', 'T36UUB_20190821T085601_B04_60m.tif', 'T36UUB_20190821T085601_B8A_60m.tif']"
   ]
  },
  {
   "cell_type": "code",
   "execution_count": 108,
   "metadata": {},
   "outputs": [],
   "source": [
    "merge_command1_t = [\"python\", gm, \"-o\", \"1merged_t.tif\" , f_needtif_t[0], f_needtif_t[1], f_needtif_t[2], f_needtif_t[3]]\n",
    "merge_command2_t = [\"python\", gm, \"-o\", \"2merged_t.tif\" , s_needtif_t[0], s_needtif_t[1], s_needtif_t[2], s_needtif_t[3]]\n",
    "merge_command3_t = [\"python\", gm, \"-o\", \"3merged_t.tif\" , t_needtif_t[0], t_needtif_t[1], t_needtif_t[2], t_needtif_t[3]]\n",
    "subprocess.call(merge_command1_t, shell=True)\n",
    "subprocess.call(merge_command2_t, shell=True)\n",
    "subprocess.call(merge_command3_t, shell=True)\n",
    "for iterfilename in range(1, 4):\n",
    "    os.system('move ' + str(iterfilename) + 'merged_t.tif ' + 'C:\\\\Users\\\\ACER')"
   ]
  },
  {
   "cell_type": "code",
   "execution_count": 109,
   "metadata": {},
   "outputs": [],
   "source": [
    "subprocess.call('gdalwarp -t_srs EPSG:4326 ' +  'C:\\\\Users\\\\ACER\\\\1merged_t.tif ' + '1merged4326_t.tif', shell = True)\n",
    "subprocess.call('gdalwarp -t_srs EPSG:4326 ' +  'C:\\\\Users\\\\ACER\\\\2merged_t.tif ' + '2merged4326_t.tif', shell = True)\n",
    "subprocess.call('gdalwarp -t_srs EPSG:4326 ' +  'C:\\\\Users\\\\ACER\\\\3merged_t.tif ' + '3merged4326_t.tif', shell = True)\n",
    "for iterfilename in range (1,4):\n",
    "    os.system('move ' + str(iterfilename) + 'merged4326_t.tif ' + 'C:\\\\Users\\\\ACER')"
   ]
  },
  {
   "cell_type": "code",
   "execution_count": 117,
   "metadata": {},
   "outputs": [
    {
     "data": {
      "text/plain": [
       "0"
      ]
     },
     "execution_count": 117,
     "metadata": {},
     "output_type": "execute_result"
    }
   ],
   "source": [
    "listmergetif2 =  os.listdir(path='C:\\\\Users\\\\ACER')\n",
    "canal4input2 = ''\n",
    "for i in listmergetif2:\n",
    "    if i.find('merged4326_t.tif') > -1:\n",
    "        canal4input2 += ' ' + i\n",
    "subprocess.call('gdalwarp '  + canal4input2  + ' ' + '4chanel_t.tif', shell = True)"
   ]
  },
  {
   "cell_type": "markdown",
   "metadata": {},
   "source": [
    "\n",
    "Getting a full map"
   ]
  },
  {
   "cell_type": "code",
   "execution_count": 119,
   "metadata": {},
   "outputs": [
    {
     "data": {
      "text/plain": [
       "0"
      ]
     },
     "execution_count": 119,
     "metadata": {},
     "output_type": "execute_result"
    }
   ],
   "source": [
    "listmergetif3 =  os.listdir(path='C:\\\\Users\\\\ACER')\n",
    "canal4input3 = ''\n",
    "for i in listmergetif3:\n",
    "    if i.find('4chanel.tif') > -1 or i.find('4chanel_t.tif') > -1:\n",
    "        canal4input3 += ' ' + i  \n",
    "subprocess.call('gdalwarp '  + canal4input3  + ' ' + '4chanel_result.tif', shell = True)"
   ]
  },
  {
   "cell_type": "markdown",
   "metadata": {},
   "source": [
    "Vector clipping"
   ]
  },
  {
   "cell_type": "code",
   "execution_count": 26,
   "metadata": {},
   "outputs": [
    {
     "data": {
      "text/plain": [
       "0"
      ]
     },
     "execution_count": 26,
     "metadata": {},
     "output_type": "execute_result"
    }
   ],
   "source": [
    "subprocess.call('gdalwarp -dstnodata 0 -q -cutline Kyiv_regions.shp -crop_to_cutline -of GTiff newfile.tif cut_file0.tif', shell=True)"
   ]
  }
 ],
 "metadata": {
  "kernelspec": {
   "display_name": "Python 3",
   "language": "python",
   "name": "python3"
  },
  "language_info": {
   "codemirror_mode": {
    "name": "ipython",
    "version": 3
   },
   "file_extension": ".py",
   "mimetype": "text/x-python",
   "name": "python",
   "nbconvert_exporter": "python",
   "pygments_lexer": "ipython3",
   "version": "3.7.6"
  }
 },
 "nbformat": 4,
 "nbformat_minor": 4
}
